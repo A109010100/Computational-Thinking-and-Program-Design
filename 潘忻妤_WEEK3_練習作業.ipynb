{
  "nbformat": 4,
  "nbformat_minor": 0,
  "metadata": {
    "colab": {
      "name": "潘忻妤-WEEK3-練習作業.ipynb",
      "provenance": [],
      "authorship_tag": "ABX9TyNfsPd0vgWAG2S9xdUjhuiH",
      "include_colab_link": true
    },
    "kernelspec": {
      "name": "python3",
      "display_name": "Python 3"
    }
  },
  "cells": [
    {
      "cell_type": "markdown",
      "metadata": {
        "id": "view-in-github",
        "colab_type": "text"
      },
      "source": [
        "<a href=\"https://colab.research.google.com/github/A109010100/Computational-Thinking-and-Program-Design/blob/main/%E6%BD%98%E5%BF%BB%E5%A6%A4_WEEK3_%E7%B7%B4%E7%BF%92%E4%BD%9C%E6%A5%AD.ipynb\" target=\"_parent\"><img src=\"https://colab.research.google.com/assets/colab-badge.svg\" alt=\"Open In Colab\"/></a>"
      ]
    },
    {
      "cell_type": "code",
      "metadata": {
        "id": "viPzzkM0fP9i"
      },
      "source": [
        ""
      ],
      "execution_count": null,
      "outputs": []
    },
    {
      "cell_type": "code",
      "metadata": {
        "colab": {
          "base_uri": "https://localhost:8080/"
        },
        "id": "IVCLyhkXg-rw",
        "outputId": "f9171afd-2a87-4507-b4f2-bffdf1d82761"
      },
      "source": [
        "print(1+1)"
      ],
      "execution_count": null,
      "outputs": [
        {
          "output_type": "stream",
          "text": [
            "2\n"
          ],
          "name": "stdout"
        }
      ]
    },
    {
      "cell_type": "code",
      "metadata": {
        "colab": {
          "base_uri": "https://localhost:8080/"
        },
        "id": "FtDRZSQqhbZY",
        "outputId": "fa70f6f2-002a-476d-e588-b44b88641a00"
      },
      "source": [
        "print(\"HELLO WORLD\")"
      ],
      "execution_count": null,
      "outputs": [
        {
          "output_type": "stream",
          "text": [
            "HELLO WORLD\n"
          ],
          "name": "stdout"
        }
      ]
    },
    {
      "cell_type": "code",
      "metadata": {
        "colab": {
          "base_uri": "https://localhost:8080/"
        },
        "id": "FAoQSIzYh-Rc",
        "outputId": "8f1bfe4f-0fd5-49b6-8bc7-41d146de6a66"
      },
      "source": [
        "print(\"HELLO WORLD\")"
      ],
      "execution_count": null,
      "outputs": [
        {
          "output_type": "stream",
          "text": [
            "HELLO WORLD\n"
          ],
          "name": "stdout"
        }
      ]
    },
    {
      "cell_type": "code",
      "metadata": {
        "id": "Tll5e-UkiClq"
      },
      "source": [
        "1"
      ],
      "execution_count": null,
      "outputs": []
    },
    {
      "cell_type": "markdown",
      "metadata": {
        "id": "0AB8r8X9iUZV"
      },
      "source": [
        "第一次作業"
      ]
    }
  ]
}