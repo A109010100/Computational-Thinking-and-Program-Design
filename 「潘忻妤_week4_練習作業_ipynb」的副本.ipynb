{
  "nbformat": 4,
  "nbformat_minor": 0,
  "metadata": {
    "colab": {
      "name": "「潘忻妤-week4-練習作業.ipynb」的副本",
      "provenance": [],
      "authorship_tag": "ABX9TyNcZo1JAAUpf8yTnPAZS7Bf",
      "include_colab_link": true
    },
    "kernelspec": {
      "name": "python3",
      "display_name": "Python 3"
    }
  },
  "cells": [
    {
      "cell_type": "markdown",
      "metadata": {
        "id": "view-in-github",
        "colab_type": "text"
      },
      "source": [
        "<a href=\"https://colab.research.google.com/github/A109010100/Computational-Thinking-and-Program-Design/blob/main/%E3%80%8C%E6%BD%98%E5%BF%BB%E5%A6%A4_week4_%E7%B7%B4%E7%BF%92%E4%BD%9C%E6%A5%AD_ipynb%E3%80%8D%E7%9A%84%E5%89%AF%E6%9C%AC.ipynb\" target=\"_parent\"><img src=\"https://colab.research.google.com/assets/colab-badge.svg\" alt=\"Open In Colab\"/></a>"
      ]
    },
    {
      "cell_type": "markdown",
      "metadata": {
        "id": "QohiX5GlVUtH"
      },
      "source": [
        "#隨堂練習\r\n"
      ]
    },
    {
      "cell_type": "markdown",
      "metadata": {
        "id": "SI2S4gcaVemT"
      },
      "source": [
        "#課後練習"
      ]
    },
    {
      "cell_type": "markdown",
      "metadata": {
        "id": "CUHxH4iBYcZa"
      },
      "source": [
        "在這個報導可以看到，北大校方認為現在的學生面對整合素養能力及跨領域學習的趨勢，必須學習程式設計課讓學生具備跨領域的專長。\r\n",
        "而我也這麼認為，尤其是新聞系的我們站在第一線面對最新、最多元的資訊，我們必須了解並且學習新知才能傳遞正確資訊給大眾。\r\n",
        "https://www.cna.com.tw/news/ahel/202102240223.aspx\r\n"
      ]
    },
    {
      "cell_type": "code",
      "metadata": {
        "id": "lYRv1amV_j6E"
      },
      "source": [
        ""
      ],
      "execution_count": null,
      "outputs": []
    }
  ]
}